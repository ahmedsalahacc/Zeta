{
 "metadata": {
  "language_info": {
   "codemirror_mode": {
    "name": "ipython",
    "version": 3
   },
   "file_extension": ".py",
   "mimetype": "text/x-python",
   "name": "python",
   "nbconvert_exporter": "python",
   "pygments_lexer": "ipython3",
   "version": "3.7.3-final"
  },
  "orig_nbformat": 2,
  "kernelspec": {
   "name": "python3",
   "display_name": "Python 3"
  }
 },
 "nbformat": 4,
 "nbformat_minor": 2,
 "cells": [
  {
   "cell_type": "code",
   "execution_count": 1,
   "metadata": {},
   "outputs": [
    {
     "output_type": "execute_result",
     "data": {
      "text/plain": [
       "<tensorflow.python.keras.engine.sequential.Sequential at 0x125042dd780>"
      ]
     },
     "metadata": {},
     "execution_count": 1
    }
   ],
   "source": [
    "from tensorflow.keras.models import Sequential\n",
    "import numpy as np\n",
    "from Utils import *\n",
    "\n",
    "# Constants\n",
    "FILTERS_ARR=[10,10]\n",
    "LAYERS_SETTINGS_ALPHA=[10,8]\n",
    "LAYERS_SETTINGS_NUMS=[10,8]\n",
    "LAYERS_SETTINGS_PIECES=[10,13]\n",
    "INPUT_SHAPE = [8, 8, 12]\n",
    "STRIDES=1\n",
    "\n",
    "super_model = Sequential()\n",
    "\n",
    "# Pieces model\n",
    "pieces_model=Sequential()\n",
    "prepare_model(pieces_model, filters_arr=FILTERS_ARR,\n",
    "              layers_settings=LAYERS_SETTINGS_PIECES, input_shape=INPUT_SHAPE, strides = STRIDES, output_activation='tanh')\n",
    "\n",
    "# Numbers model\n",
    "nums_model=Sequential()\n",
    "prepare_model(nums_model, filters_arr=FILTERS_ARR,\n",
    "              layers_settings=LAYERS_SETTINGS_NUMS, input_shape=INPUT_SHAPE, strides = STRIDE, output_activation='tanh')\n",
    "\n",
    "# Alpha model\n",
    "alpha_model=Sequential()\n",
    "prepare_model(alpha_model, filters_arr=FILTERS_ARR,\n",
    "              layers_settings=LAYERS_SETTINGS_ALPHA, input_shape=INPUT_SHAPE, strides = STRIDES, output_activation='tanh')\n"
   ]
  },
  {
   "cell_type": "code",
   "execution_count": 2,
   "metadata": {},
   "outputs": [],
   "source": [
    "# --------Testing Models Output--------#\n",
    "dummy_input = np.random.randn(100, 8, 8, 12)\n",
    "dummy_output_pieces = np.random.randn(100, 13)\n",
    "dummy_output_nums = np.random.randn(100, 8)\n",
    "dummy_output_alphas = np.random.randn(100, 8)\n"
   ]
  },
  {
   "cell_type": "code",
   "execution_count": 3,
   "metadata": {},
   "outputs": [
    {
     "output_type": "stream",
     "name": "stdout",
     "text": [
      "Epoch 1/10\n",
      "4/4 [==============================] - 0s 2ms/step - loss: 0.1332 - accuracy: 0.0700\n",
      "Epoch 2/10\n",
      "4/4 [==============================] - 0s 2ms/step - loss: 0.1025 - accuracy: 0.0700\n",
      "Epoch 3/10\n",
      "4/4 [==============================] - 0s 2ms/step - loss: 0.0823 - accuracy: 0.0700\n",
      "Epoch 4/10\n",
      "4/4 [==============================] - 0s 3ms/step - loss: 0.0667 - accuracy: 0.0800\n",
      "Epoch 5/10\n",
      "4/4 [==============================] - 0s 3ms/step - loss: 0.0496 - accuracy: 0.0800\n",
      "Epoch 6/10\n",
      "4/4 [==============================] - 0s 2ms/step - loss: 0.0327 - accuracy: 0.0800\n",
      "Epoch 7/10\n",
      "4/4 [==============================] - 0s 2ms/step - loss: 0.0155 - accuracy: 0.0800\n",
      "Epoch 8/10\n",
      "4/4 [==============================] - 0s 2ms/step - loss: -0.0024 - accuracy: 0.0800\n",
      "Epoch 9/10\n",
      "4/4 [==============================] - 0s 2ms/step - loss: -0.0182 - accuracy: 0.0800\n",
      "Epoch 10/10\n",
      "4/4 [==============================] - 0s 2ms/step - loss: -0.0430 - accuracy: 0.0800\n",
      "Epoch 1/10\n",
      "4/4 [==============================] - 0s 2ms/step - loss: 0.0366 - accuracy: 0.2000\n",
      "Epoch 2/10\n",
      "4/4 [==============================] - 0s 2ms/step - loss: 6.3124e-04 - accuracy: 0.1800\n",
      "Epoch 3/10\n",
      "4/4 [==============================] - 0s 2ms/step - loss: -0.0233 - accuracy: 0.1900\n",
      "Epoch 4/10\n",
      "4/4 [==============================] - 0s 2ms/step - loss: -0.0487 - accuracy: 0.1900\n",
      "Epoch 5/10\n",
      "4/4 [==============================] - 0s 2ms/step - loss: -0.0780 - accuracy: 0.1800\n",
      "Epoch 6/10\n",
      "4/4 [==============================] - 0s 2ms/step - loss: -0.1062 - accuracy: 0.1800\n",
      "Epoch 7/10\n",
      "4/4 [==============================] - 0s 3ms/step - loss: -0.1354 - accuracy: 0.1900\n",
      "Epoch 8/10\n",
      "4/4 [==============================] - 0s 2ms/step - loss: -0.1667 - accuracy: 0.1800\n",
      "Epoch 9/10\n",
      "4/4 [==============================] - 0s 3ms/step - loss: -0.2034 - accuracy: 0.1800\n",
      "Epoch 10/10\n",
      "4/4 [==============================] - 0s 2ms/step - loss: -0.2459 - accuracy: 0.1800\n",
      "Epoch 1/10\n",
      "4/4 [==============================] - 0s 2ms/step - loss: 0.2166 - accuracy: 0.0800\n",
      "Epoch 2/10\n",
      "4/4 [==============================] - 0s 2ms/step - loss: 0.1532 - accuracy: 0.0800\n",
      "Epoch 3/10\n",
      "4/4 [==============================] - 0s 2ms/step - loss: 0.1221 - accuracy: 0.0800\n",
      "Epoch 4/10\n",
      "4/4 [==============================] - 0s 3ms/step - loss: 0.0990 - accuracy: 0.0900\n",
      "Epoch 5/10\n",
      "4/4 [==============================] - 0s 2ms/step - loss: 0.0807 - accuracy: 0.0900\n",
      "Epoch 6/10\n",
      "4/4 [==============================] - 0s 2ms/step - loss: 0.0668 - accuracy: 0.0900\n",
      "Epoch 7/10\n",
      "4/4 [==============================] - 0s 2ms/step - loss: 0.0550 - accuracy: 0.0800\n",
      "Epoch 8/10\n",
      "4/4 [==============================] - 0s 2ms/step - loss: 0.0451 - accuracy: 0.0900\n",
      "Epoch 9/10\n",
      "4/4 [==============================] - 0s 2ms/step - loss: 0.0359 - accuracy: 0.0900\n",
      "Epoch 10/10\n",
      "4/4 [==============================] - 0s 2ms/step - loss: 0.0271 - accuracy: 0.1000\n"
     ]
    },
    {
     "output_type": "execute_result",
     "data": {
      "text/plain": [
       "<tensorflow.python.keras.callbacks.History at 0x1d0986168d0>"
      ]
     },
     "metadata": {},
     "execution_count": 3
    }
   ],
   "source": [
    "alpha_model.fit(x=dummy_input,y=dummy_output_alphas,epochs=10)\n",
    "nums_model.fit(x=dummy_input,y=dummy_output_nums,epochs=10)\n",
    "pieces_model.fit(x=dummy_input,y=dummy_output_pieces,epochs=10)"
   ]
  },
  {
   "cell_type": "code",
   "execution_count": 7,
   "metadata": {},
   "outputs": [],
   "source": [
    "alpha_preds = alpha_model.predict(dummy_input)\n",
    "nums_preds = nums_model.predict(dummy_input)\n",
    "pieces_preds = pieces_model.predict(dummy_input)"
   ]
  },
  {
   "cell_type": "code",
   "execution_count": 8,
   "metadata": {},
   "outputs": [
    {
     "output_type": "stream",
     "name": "stdout",
     "text": [
      "(100, 8)\n(100, 8)\n(100, 13)\n"
     ]
    }
   ],
   "source": [
    "print(np.array(alpha_preds).shape)\n",
    "print(np.array(nums_preds).shape)\n",
    "print(np.array(pieces_preds).shape)"
   ]
  }
 ]
}