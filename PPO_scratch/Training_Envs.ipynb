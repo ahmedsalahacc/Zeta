{
 "cells": [
  {
   "cell_type": "code",
   "execution_count": null,
   "metadata": {},
   "outputs": [],
   "source": [
    "from PPO_trainer import *\n",
    "import matplotlib.pyplot as plt\n",
    "%matplotlib inline\n",
    "import seaborn as sns\n",
    "sns.set()\n",
    "\n",
    "environments_to_train = ['CartPole-v1']\n",
    "max_episodes = [1500]\n",
    "plots_path = './plots'\n",
    "\n",
    "for num_eps,env_name in zip(max_episodes,environments_to_train):\n",
    "    print(\"----------Training agent on {}----------\".format(env_name))\n",
    "    params = Params(env_name,export_video='./episode_videos/'+env_name,num_episodes=num_eps)\n",
    "    params.policy_lr = 2e-2\n",
    "    params.value_lr = 2e-2\n",
    "    ppo = PPO_trainer(params)\n",
    "    ppo.play_and_train()\n",
    "    ppo.combined_episode_videos('./trained_models_vids')\n",
    "    ppo.save_nets('./trained_models/ppo_{}_'+env_name+'.pth')\n",
    "    \n",
    "    # Plot Rewards during episodes of training\n",
    "    plt.title(env_name)\n",
    "    plt.plot(ppo.episode_rewards)\n",
    "    plt.ylabel(\"Rewards\")\n",
    "    plt.xlabel(\"Episode number\")\n",
    "    plt.savefig('{}/training_rewards_{}.png'.format(plots_path,env_name))\n",
    "    plt.show()\n",
    "    \n",
    "    # Evaluate and compare a trained vs untrained model\n",
    "    print(\"----------Training Complete, Evaluating Model----------\")\n",
    "    trained_eval = ppo.evaluate_agent(num_episodes=50)\n",
    "    params = Params(env_name)\n",
    "    ppo = PPO_trainer(params)\n",
    "    untrained_eval = ppo.evaluate_agent(num_episodes=50)\n",
    "    \n",
    "    # Plot rewards of a trained and an untrained model\n",
    "    _,ax = plt.subplots()\n",
    "    plt.title(\"Rewards before vs after training: {}\".format(env_name))\n",
    "    plt.violinplot([trained_eval,untrained_eval],[1,2])\n",
    "    ax.set_xticks([1,2])\n",
    "    ax.set_xticklabels(['Trained','Not Trained'])\n",
    "    plt.ylabel(\"Reward\")\n",
    "    plt.savefig('{}/trained_vs_untrained_{}.png'.format(plots_path,env_name))\n",
    "    plt.show()"
   ]
  }
 ],
 "metadata": {
  "kernelspec": {
   "display_name": "Python 3",
   "language": "python",
   "name": "python3"
  },
  "language_info": {
   "codemirror_mode": {
    "name": "ipython",
    "version": 3
   },
   "file_extension": ".py",
   "mimetype": "text/x-python",
   "name": "python",
   "nbconvert_exporter": "python",
   "pygments_lexer": "ipython3",
   "version": "3.7.9"
  }
 },
 "nbformat": 4,
 "nbformat_minor": 4
}
