{
 "cells": [
  {
   "cell_type": "code",
   "execution_count": 15,
   "metadata": {},
   "outputs": [],
   "source": [
    "from XO import *\n",
    "from MCT import *\n",
    "import torch\n",
    "import torch.nn as nn"
   ]
  },
  {
   "cell_type": "code",
   "execution_count": 17,
   "metadata": {},
   "outputs": [],
   "source": [
    "policy_net = nn.Sequential(nn.Linear(9,16),\n",
    "                          nn.ReLU(),\n",
    "                          nn.Linear(16,9),\n",
    "                          nn.Softmax(dim=1))\n",
    "\n",
    "value_net = nn.Sequential(nn.Linear(9,16),\n",
    "                          nn.ReLU(),\n",
    "                          nn.Linear(16,1),\n",
    "                         nn.Tanh())\n",
    "class policy_uni_net:\n",
    "    def __init__(self):\n",
    "        pass\n",
    "    def forward(self,x):\n",
    "        return torch.ones(9).reshape(1,9)/9\n",
    "    \n",
    "class value_uni_net:\n",
    "    def __init__(self):\n",
    "        pass\n",
    "    def forward(self,x):\n",
    "        return torch.zeros(1).reshape(1,1)\n",
    "    \n",
    "game = Environment()\n",
    "MC = MonteCarlo(board=game,num_simulations=70000)"
   ]
  },
  {
   "cell_type": "code",
   "execution_count": 18,
   "metadata": {},
   "outputs": [
    {
     "output_type": "stream",
     "name": "stderr",
     "text": [
      "100%|██████████| 70000/70000 [00:13<00:00, 5283.98it/s]\n"
     ]
    }
   ],
   "source": [
    "tree = MC.play_and_search(value_uni_net(),policy_uni_net(),game.game_state()[0],1,verbose=False)"
   ]
  },
  {
   "cell_type": "code",
   "execution_count": 19,
   "metadata": {},
   "outputs": [
    {
     "output_type": "stream",
     "name": "stdout",
     "text": [
      "---------- Move --------------\n",
      "0|1|2\n",
      "-+-+-\n",
      "3|X|5\n",
      "-+-+-\n",
      "6|7|8\n",
      "---------- Move --------------\n",
      "O|1|2\n",
      "-+-+-\n",
      "3|X|5\n",
      "-+-+-\n",
      "6|7|8\n",
      "---------- Move --------------\n",
      "O|1|2\n",
      "-+-+-\n",
      "3|X|5\n",
      "-+-+-\n",
      "6|7|X\n",
      "---------- Move --------------\n",
      "O|O|2\n",
      "-+-+-\n",
      "3|X|5\n",
      "-+-+-\n",
      "6|7|X\n",
      "---------- Move --------------\n",
      "O|O|2\n",
      "-+-+-\n",
      "X|X|5\n",
      "-+-+-\n",
      "6|7|X\n",
      "---------- Move --------------\n",
      "O|O|O\n",
      "-+-+-\n",
      "X|X|5\n",
      "-+-+-\n",
      "6|7|X\n",
      "\n",
      "Game finished in 5 steps\n"
     ]
    }
   ],
   "source": [
    "from copy import deepcopy\n",
    "game = Environment()\n",
    "game.reset()\n",
    "current_node1 = tree\n",
    "current_node2 = deepcopy(tree)\n",
    "\n",
    "for i in range(10):\n",
    "    print(\"---------- Move --------------\")\n",
    "    action = current_node.select_action()\n",
    "    _,reward,done,_ = game.take_action(action)\n",
    "    game.print()\n",
    "    if done:\n",
    "        print(f'\\nGame finished in {i} steps')\n",
    "        break\n",
    "    current_node = current_node.children[action]"
   ]
  },
  {
   "cell_type": "code",
   "execution_count": null,
   "metadata": {},
   "outputs": [],
   "source": []
  }
 ],
 "metadata": {
  "kernelspec": {
   "display_name": "Python 3",
   "language": "python",
   "name": "python3"
  },
  "language_info": {
   "codemirror_mode": {
    "name": "ipython",
    "version": 3
   },
   "file_extension": ".py",
   "mimetype": "text/x-python",
   "name": "python",
   "nbconvert_exporter": "python",
   "pygments_lexer": "ipython3",
   "version": "3.7.3-final"
  }
 },
 "nbformat": 4,
 "nbformat_minor": 4
}